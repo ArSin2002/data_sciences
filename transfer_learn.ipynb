{
  "nbformat": 4,
  "nbformat_minor": 0,
  "metadata": {
    "colab": {
      "provenance": [],
      "authorship_tag": "ABX9TyP5VErAdu0AoKqtdJMbChpg",
      "include_colab_link": true
    },
    "kernelspec": {
      "name": "python3",
      "display_name": "Python 3"
    },
    "language_info": {
      "name": "python"
    }
  },
  "cells": [
    {
      "cell_type": "markdown",
      "metadata": {
        "id": "view-in-github",
        "colab_type": "text"
      },
      "source": [
        "<a href=\"https://colab.research.google.com/github/ArSin2002/data_sciences/blob/main/transfer_learn.ipynb\" target=\"_parent\"><img src=\"https://colab.research.google.com/assets/colab-badge.svg\" alt=\"Open In Colab\"/></a>"
      ]
    },
    {
      "cell_type": "code",
      "execution_count": 1,
      "metadata": {
        "id": "oNVkbTEEWiK9"
      },
      "outputs": [],
      "source": [
        " import numpy as np\n",
        " import cv2\n",
        "\n",
        "import PIL.Image as Image\n",
        "import os\n",
        "\n",
        "import matplotlib.pyplot as plt\n",
        "import tensorflow as tf\n",
        "import tensorflow_hub as hub\n",
        "\n",
        "import tensorflow.keras as keras\n",
        "from tensorflow.keras import layers\n",
        "from tensorflow.keras.models import Sequential\n"
      ]
    },
    {
      "cell_type": "code",
      "source": [
        "feature_extracted_model = \"https://tfhub.dev/google/tf2-preview/mobilenet_v2/feature_vector/4\"\n"
      ],
      "metadata": {
        "id": "PnUdtIoQeMEW"
      },
      "execution_count": 2,
      "outputs": []
    },
    {
      "cell_type": "code",
      "source": [
        "pretrained_model_without_top_layer = hub.KerasLayer(\n",
        "    feature_extracted_model , input_shape=(224,224,3),trainable=False\n",
        ")"
      ],
      "metadata": {
        "id": "AeW4vtZPnHre"
      },
      "execution_count": 3,
      "outputs": []
    },
    {
      "cell_type": "code",
      "source": [],
      "metadata": {
        "id": "r5uLcwqDnesU"
      },
      "execution_count": 3,
      "outputs": []
    },
    {
      "cell_type": "code",
      "source": [
        "dataset_url=\"https://storage.googleapis.com/download.tensorflow.org/example_images/flower_photos.tgz\"\n",
        "data_dir=tf.keras.utils.get_file('flower_photos',origin=dataset_url,cache_dir='C:/Users/Aryan Sinha/Desktop/My Stuff/Data Science/Deep Learning/flower_photos',untar=True)"
      ],
      "metadata": {
        "id": "fheKuUsOW4qv"
      },
      "execution_count": 4,
      "outputs": []
    },
    {
      "cell_type": "code",
      "source": [
        "# data_dir=r'C:\\Users\\Aryan Sinha\\Desktop\\My Stuff\\Data Science\\Deep Learning\\datasets\\flower_photos'\n",
        "import pathlib\n",
        "data_dir = pathlib.Path(data_dir)\n",
        "data_dir"
      ],
      "metadata": {
        "colab": {
          "base_uri": "https://localhost:8080/"
        },
        "id": "YPsGf1rhnuD5",
        "outputId": "4c238159-37b0-4941-b4be-72c246351167"
      },
      "execution_count": 5,
      "outputs": [
        {
          "output_type": "execute_result",
          "data": {
            "text/plain": [
              "PosixPath('/tmp/.keras/datasets/flower_photos')"
            ]
          },
          "metadata": {},
          "execution_count": 5
        }
      ]
    },
    {
      "cell_type": "code",
      "source": [
        "flower_images_dict={\n",
        "    'roses':list(data_dir.glob('roses/*.jpg')),\n",
        "    'daisy':list(data_dir.glob('daisy/*.jpg')),\n",
        "    'dandelion':list(data_dir.glob('dandelion/*.jpg')),\n",
        "    'sunflowers':list(data_dir.glob('sunflowers/*.jpg')),\n",
        "    'tulips':list(data_dir.glob('tulips/*.jpg')),\n",
        "}"
      ],
      "metadata": {
        "id": "AAUhRSKrnxXV"
      },
      "execution_count": 6,
      "outputs": []
    },
    {
      "cell_type": "code",
      "source": [
        "flowers_label_dict={\n",
        "    'roses':0,\n",
        "    'daisy':1,\n",
        "    'dandelion':2,\n",
        "    'sunflowers':3,\n",
        "    'tulips':4,\n",
        "}"
      ],
      "metadata": {
        "id": "PohvxgaNnzND"
      },
      "execution_count": 7,
      "outputs": []
    },
    {
      "cell_type": "code",
      "source": [
        "x=[]\n",
        "y=[]\n",
        "\n",
        "for flower_name , images in flower_images_dict.items():\n",
        "    for image in images:\n",
        "        img=cv2.imread(str(image))\n",
        "        resized_img=cv2.resize(img,(224,224))\n",
        "        x.append(resized_img)\n",
        "        y.append(flowers_label_dict[flower_name])"
      ],
      "metadata": {
        "id": "zs1JxVcRn1qo"
      },
      "execution_count": 8,
      "outputs": []
    },
    {
      "cell_type": "code",
      "source": [
        "x=np.array(x)\n",
        "y=np.array(y)"
      ],
      "metadata": {
        "id": "bRVeAx0gn3ge"
      },
      "execution_count": 9,
      "outputs": []
    },
    {
      "cell_type": "code",
      "source": [
        "from sklearn.model_selection import train_test_split\n",
        "x_train,x_test,y_train,y_test=train_test_split(x,y)\n"
      ],
      "metadata": {
        "id": "bSxlEJiKn5Am"
      },
      "execution_count": 10,
      "outputs": []
    },
    {
      "cell_type": "code",
      "source": [
        "x_train_scaled=x_train/255\n",
        "x_test_scaled=x_test/255"
      ],
      "metadata": {
        "id": "qAlLf4hBn6dq"
      },
      "execution_count": 11,
      "outputs": []
    },
    {
      "cell_type": "code",
      "source": [
        "num_of_flowers=5\n",
        "\n",
        "model=Sequential([\n",
        "    pretrained_model_without_top_layer,\n",
        "    keras.layers.Dense(num_of_flowers,activation='softmax')\n",
        "])\n",
        "\n",
        "model.compile(\n",
        "    optimizer='adam',\n",
        "    loss='sparse_categorical_crossentropy',\n",
        "    metrics=['accuracy']\n",
        "\n",
        ")\n"
      ],
      "metadata": {
        "id": "G7hR1Sp4oJ8b"
      },
      "execution_count": 12,
      "outputs": []
    },
    {
      "cell_type": "code",
      "source": [
        "model.fit(x_train_scaled,y_train,epochs=5)"
      ],
      "metadata": {
        "id": "2Erhm06iok4P"
      },
      "execution_count": null,
      "outputs": []
    },
    {
      "cell_type": "code",
      "source": [],
      "metadata": {
        "id": "hBfD8DMnos2r"
      },
      "execution_count": null,
      "outputs": []
    }
  ]
}